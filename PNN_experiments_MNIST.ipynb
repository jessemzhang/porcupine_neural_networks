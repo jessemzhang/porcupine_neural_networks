{
 "cells": [
  {
   "cell_type": "markdown",
   "metadata": {},
   "source": [
    "# Porcupine Neural Networks\n",
    "\n",
    "The code here is for testing PNN approximation on MNIST (only 0's and 1's)."
   ]
  },
  {
   "cell_type": "code",
   "execution_count": 1,
   "metadata": {
    "collapsed": true
   },
   "outputs": [],
   "source": [
    "import os\n",
    "os.environ[\"CUDA_VISIBLE_DEVICES\"]=\"1\""
   ]
  },
  {
   "cell_type": "code",
   "execution_count": 2,
   "metadata": {},
   "outputs": [
    {
     "data": {
      "text/plain": [
       "0"
      ]
     },
     "execution_count": 2,
     "metadata": {},
     "output_type": "execute_result"
    }
   ],
   "source": [
    "%load_ext autoreload\n",
    "%autoreload 2\n",
    "\n",
    "from __future__ import print_function\n",
    "\n",
    "import pickle\n",
    "import numpy as np\n",
    "import matplotlib.pyplot as plt\n",
    "\n",
    "import arch\n",
    "import pnn\n",
    "\n",
    "np.set_printoptions(precision=2,suppress=True)\n",
    "\n",
    "%matplotlib inline\n",
    "\n",
    "maindir = './temp_MNIST_1_2_final'\n",
    "os.system('mkdir -p %s'%(maindir))"
   ]
  },
  {
   "cell_type": "code",
   "execution_count": 3,
   "metadata": {},
   "outputs": [
    {
     "name": "stdout",
     "output_type": "stream",
     "text": [
      "Extracting MNIST_data/train-images-idx3-ubyte.gz\n",
      "Extracting MNIST_data/train-labels-idx1-ubyte.gz\n",
      "Extracting MNIST_data/t10k-images-idx3-ubyte.gz\n",
      "Extracting MNIST_data/t10k-labels-idx1-ubyte.gz\n"
     ]
    }
   ],
   "source": [
    "from tensorflow.examples.tutorials.mnist import input_data\n",
    "\n",
    "# subset to just 1's and 0's\n",
    "\n",
    "mnist = input_data.read_data_sets(\"MNIST_data/\", one_hot=False)\n",
    "\n",
    "keep_inds_train = (mnist.train.labels == 1) | (mnist.train.labels == 2)\n",
    "Xtr = mnist.train.images[keep_inds_train]\n",
    "Ytr = mnist.train.labels[keep_inds_train].astype(float).reshape(-1, 1)\n",
    "\n",
    "keep_inds_test = (mnist.test.labels == 1) | (mnist.test.labels == 2)\n",
    "Xtt = mnist.test.images[keep_inds_test]\n",
    "Ytt = mnist.test.labels[keep_inds_test].astype(float).reshape(-1, 1)"
   ]
  },
  {
   "cell_type": "code",
   "execution_count": 4,
   "metadata": {
    "collapsed": true
   },
   "outputs": [],
   "source": [
    "# Network parameters\n",
    "num_epochs = 1000\n",
    "batch_size = 100\n",
    "build_func = arch.mlp_noreluout_lastlayernottrainable\n",
    "d = 784    # number of inputs\n",
    "k_list = [512, 1024, 2048]"
   ]
  },
  {
   "cell_type": "markdown",
   "metadata": {},
   "source": [
    "# PNN last layer not trainable\n",
    "\n",
    "All last layer weights set to 1"
   ]
  },
  {
   "cell_type": "code",
   "execution_count": 5,
   "metadata": {},
   "outputs": [
    {
     "name": "stdout",
     "output_type": "stream",
     "text": [
      "Train acc: 0.99845\n",
      "Test acc: 0.97600\n"
     ]
    }
   ],
   "source": [
    "# Performance with a dense network\n",
    "input_dict = dict(p=d, h=512)\n",
    "save_file = '%s/mlp_noreluout_lastlayernottrainable.pickle'%(maindir)\n",
    "build_func = arch.mlp_noreluout_lastlayernottrainable\n",
    "\n",
    "w_init = {'weights1':np.random.normal(0, 1/np.sqrt(d), [d, 512]),\n",
    "          'weights2':np.ones([512, 1]).astype(np.float32)}\n",
    "\n",
    "pnn.build_graph_and_train(Xtr, Ytr, Xtt, Ytt, input_dict, build_func, save_file,\n",
    "                          num_epochs=num_epochs, batch_size=batch_size, w_initial=w_init)"
   ]
  },
  {
   "cell_type": "code",
   "execution_count": 6,
   "metadata": {
    "scrolled": true
   },
   "outputs": [
    {
     "name": "stdout",
     "output_type": "stream",
     "text": [
      "Num final lines close to original: 511\n",
      "Train acc: 0.98592\n",
      "Test acc: 0.98939\n",
      "Num final lines close to original: 1024\n",
      "Train acc: 0.99219\n",
      "Test acc: 0.99446\n",
      "Num final lines close to original: 2042\n",
      "Train acc: 0.99313\n",
      "Test acc: 0.99262\n"
     ]
    }
   ],
   "source": [
    "build_func = arch.mlp_noreluout_lastlayernottrainable\n",
    "save_pref = '%s/mlp_noreluout_lastlayernottrainable_PNN'%(maindir)\n",
    "pnn.train_set_of_PNNs(Xtr, Ytr, Xtt, Ytt, k_list, d, build_func, save_pref,\n",
    "                      num_epochs=num_epochs, batch_size=batch_size, w2_init_mode=1)"
   ]
  },
  {
   "cell_type": "code",
   "execution_count": 7,
   "metadata": {},
   "outputs": [
    {
     "data": {
      "image/png": "[encoded data removed]",
      "text/plain": [
       "<matplotlib.figure.Figure at 0x7fa73b70a510>"
      ]
     },
     "metadata": {},
     "output_type": "display_data"
    }
   ],
   "source": [
    "# Plot all losses\n",
    "plt.figure(figsize=(5, 4))\n",
    "loss = pickle.load(file('%s/mlp_noreluout_lastlayernottrainable.pickle'%(maindir), 'rb'))[0]\n",
    "plt.plot(loss, label='dense, 512 hidden')\n",
    "pnn.plot_losses(k_list, save_pref)\n",
    "plt.xlabel('epoch')\n",
    "plt.ylabel('normalized loss (MSE)')\n",
    "plt.legend()\n",
    "plt.grid()\n",
    "plt.yscale('log')\n",
    "plt.savefig('Figures/fig_pnn_mnist.pdf', format='pdf', dpi=500, bbox_inches='tight')\n",
    "plt.show()"
   ]
  },
  {
   "cell_type": "markdown",
   "metadata": {},
   "source": [
    "# PNN last layer trainable"
   ]
  },
  {
   "cell_type": "code",
   "execution_count": 8,
   "metadata": {},
   "outputs": [
    {
     "name": "stdout",
     "output_type": "stream",
     "text": [
      "Train acc: 0.99391\n",
      "Test acc: 0.97831\n"
     ]
    }
   ],
   "source": [
    "# Performance with a dense network\n",
    "input_dict = dict(p=d, h=512)\n",
    "save_file = '%s/mlp_noreluout.pickle'%(maindir)\n",
    "build_func = arch.mlp_noreluout\n",
    "\n",
    "w_init = {'weights1':np.random.normal(0, 1/np.sqrt(d), [d, 512]),\n",
    "          'weights2':np.ones([512, 1]).astype(np.float32)}\n",
    "\n",
    "pnn.build_graph_and_train(Xtr, Ytr, Xtt, Ytt, input_dict, build_func, save_file,\n",
    "                          num_epochs=num_epochs, batch_size=batch_size, w_initial=w_init)"
   ]
  },
  {
   "cell_type": "code",
   "execution_count": 9,
   "metadata": {},
   "outputs": [
    {
     "name": "stdout",
     "output_type": "stream",
     "text": [
      "Num final lines close to original: 512\n",
      "Train acc: 0.98918\n",
      "Test acc: 0.98939\n",
      "Num final lines close to original: 1024\n",
      "Train acc: 0.99399\n",
      "Test acc: 0.99354\n",
      "Num final lines close to original: 2048\n",
      "Train acc: 0.99665\n",
      "Test acc: 0.99492\n"
     ]
    }
   ],
   "source": [
    "build_func = arch.mlp_noreluout\n",
    "save_pref = '%s/mlp_noreluout_PNN'%(maindir)\n",
    "pnn.train_set_of_PNNs(Xtr, Ytr, Xtt, Ytt, k_list, d, build_func, save_pref,\n",
    "                      num_epochs=num_epochs, batch_size=batch_size, w2_init_mode=2)"
   ]
  },
  {
   "cell_type": "code",
   "execution_count": 11,
   "metadata": {},
   "outputs": [
    {
     "data": {
      "image/png": "[encoded data removed]",
      "text/plain": [
       "<matplotlib.figure.Figure at 0x7fa6f0080610>"
      ]
     },
     "metadata": {},
     "output_type": "display_data"
    }
   ],
   "source": [
    "# Plot all losses\n",
    "plt.figure(figsize=(5, 4))\n",
    "loss = pickle.load(file('%s/mlp_noreluout.pickle'%(maindir), 'rb'))[0]\n",
    "plt.plot(loss, label='dense, 512 hidden')\n",
    "pnn.plot_losses(k_list, save_pref)\n",
    "plt.xlabel('epoch')\n",
    "plt.ylabel('normalized loss (MSE)')\n",
    "plt.legend()\n",
    "plt.grid()\n",
    "plt.yscale('log')\n",
    "plt.show()"
   ]
  }
 ],
 "metadata": {
  "kernelspec": {
   "display_name": "Python 2",
   "language": "python",
   "name": "python2"
  },
  "language_info": {
   "codemirror_mode": {
    "name": "ipython",
    "version": 2
   },
   "file_extension": ".py",
   "mimetype": "text/x-python",
   "name": "python",
   "nbconvert_exporter": "python",
   "pygments_lexer": "ipython2",
   "version": "2.7.13"
  }
 },
 "nbformat": 4,
 "nbformat_minor": 1
}
