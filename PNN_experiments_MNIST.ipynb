{
 "cells": [
  {
   "cell_type": "markdown",
   "metadata": {},
   "source": [
    "# Porcupine Neural Networks\n",
    "\n",
    "The code here is for testing PNN approximation on MNIST (only 0's and 1's)."
   ]
  },
  {
   "cell_type": "code",
   "execution_count": 1,
   "metadata": {
    "collapsed": true
   },
   "outputs": [],
   "source": [
    "import os\n",
    "os.environ[\"CUDA_VISIBLE_DEVICES\"]=\"0\""
   ]
  },
  {
   "cell_type": "code",
   "execution_count": 2,
   "metadata": {
    "collapsed": true
   },
   "outputs": [],
   "source": [
    "%load_ext autoreload\n",
    "%autoreload 2\n",
    "\n",
    "from __future__ import print_function\n",
    "\n",
    "import os\n",
    "import time\n",
    "import pickle\n",
    "import tensorflow as tf\n",
    "import numpy as np\n",
    "import matplotlib.pyplot as plt\n",
    "\n",
    "import arch\n",
    "import dl_utils\n",
    "import utils\n",
    "\n",
    "np.set_printoptions(precision=2,suppress=True)\n",
    "gpu_id = 0\n",
    "\n",
    "%matplotlib inline\n",
    "\n",
    "maindir = './temp_PNN/'"
   ]
  },
  {
   "cell_type": "code",
   "execution_count": 3,
   "metadata": {},
   "outputs": [
    {
     "name": "stdout",
     "output_type": "stream",
     "text": [
      "Extracting MNIST_data/train-images-idx3-ubyte.gz\n",
      "Extracting MNIST_data/train-labels-idx1-ubyte.gz\n",
      "Extracting MNIST_data/t10k-images-idx3-ubyte.gz\n",
      "Extracting MNIST_data/t10k-labels-idx1-ubyte.gz\n"
     ]
    }
   ],
   "source": [
    "from tensorflow.examples.tutorials.mnist import input_data\n",
    "\n",
    "# subset to just 1's and 0's\n",
    "\n",
    "mnist = input_data.read_data_sets(\"MNIST_data/\", one_hot=False)\n",
    "\n",
    "keep_inds_train = (mnist.train.labels == 0) | (mnist.train.labels == 1)\n",
    "Xtr = mnist.train.images[keep_inds_train]\n",
    "Ytr = mnist.train.labels[keep_inds_train].astype(float).reshape(-1, 1)\n",
    "Ytr[Ytr == 0] = -1\n",
    "\n",
    "keep_inds_test = (mnist.test.labels == 0) | (mnist.test.labels == 1)\n",
    "Xtt = mnist.test.images[keep_inds_test]\n",
    "Ytt = mnist.test.labels[keep_inds_test].astype(float).reshape(-1, 1)\n",
    "Ytt[Ytt == 0] = -1"
   ]
  },
  {
   "cell_type": "code",
   "execution_count": 4,
   "metadata": {
    "collapsed": true
   },
   "outputs": [],
   "source": [
    "# Same as graph_builder_wrapper except for sparser structures\n",
    "# CURRENTLY ONLY WORKS WITH mlp_noreluout_lastlayernottrainable\n",
    "def graph_builder_wrapper_PNN(input_dict, build_func=arch.mlp, lr_initial=0.01, max_save=100):\n",
    "    graph = build_func(input_dict)\n",
    "    \n",
    "    # Loss\n",
    "    y = tf.placeholder(tf.float32, shape=[None,1])\n",
    "    total_loss = dl_utils.loss(y, graph['yhat'])\n",
    "    \n",
    "    # W gap\n",
    "    w = {k:tf.placeholder(tf.float32, shape=[None,None]) for k in graph if 'weights' in k}\n",
    "    total_w_gap = dl_utils.w_gap(w, {k:graph[k] for k in graph if 'weights' in k})\n",
    "    \n",
    "    # Find unit vectors\n",
    "    u = graph['weights1'] / tf.sqrt(tf.reduce_sum(tf.square(graph['weights1']), 0, keep_dims=True))\n",
    "    \n",
    "    # Optimizer\n",
    "    learning_rate = tf.Variable(lr_initial, name='learning_rate')\n",
    "    optimizer = tf.train.GradientDescentOptimizer(learning_rate)\n",
    "    grads = optimizer.compute_gradients(total_loss)\n",
    "    modified_grads = []\n",
    "    for gv in grads:\n",
    "        if gv[0] is None: modified_grads.append(gv)\n",
    "        else: \n",
    "            # Project gradients along unit vectors\n",
    "            alpha = tf.diag_part(tf.matmul(tf.transpose(u),gv[0]))\n",
    "            update = u*alpha\n",
    "            modified_grads.append((update, gv[1]))\n",
    "            \n",
    "    opt_step = optimizer.apply_gradients(modified_grads)\n",
    "    \n",
    "    graph['y'] = y\n",
    "    graph['w'] = w\n",
    "    graph['u'] = u\n",
    "    graph['grads'] = [i for i in grads if i[0] is not None]\n",
    "    graph['modified_grads'] = [i for i in modified_grads if i[0] is not None]\n",
    "    graph['opt_step'] = opt_step\n",
    "    graph['total_loss'] = total_loss\n",
    "    graph['total_w_gap'] = total_w_gap\n",
    "    graph['learning_rate'] = learning_rate\n",
    "    graph['saver'] = tf.train.Saver(max_to_keep=100)\n",
    "    return graph\n",
    "\n",
    "# Used to check to make sure final weights are aligned with initial weights\n",
    "def check_to_see_if_col_are_same_line(X1,X2,verbose=True):\n",
    "    u1 = X1 / np.linalg.norm(X1,axis=0)\n",
    "    u2 = X2 / np.linalg.norm(X2,axis=0)\n",
    "    dot_products = np.abs(np.diag(np.dot(u1.T,u2)))\n",
    "    if verbose:\n",
    "        for i in dot_products: print(i)\n",
    "        if np.all(np.isclose(dot_products,1)):\n",
    "            print('columns along same line')\n",
    "        else:\n",
    "            print('columns not along same line')            \n",
    "    return dot_products\n",
    "\n",
    "def get_acc(X, Y, w, input_dict, build_func):\n",
    "    Yhat = dl_utils.generate_output(X, w, input_dict, build_func=build_func)\n",
    "    return np.sum(np.sign(Yhat) == Y)/float(len(Y))"
   ]
  },
  {
   "cell_type": "code",
   "execution_count": 5,
   "metadata": {
    "collapsed": true
   },
   "outputs": [],
   "source": [
    "num_scale_redraws = 10\n",
    "N = 10000      # number of samples\n",
    "\n",
    "# Network parameters\n",
    "num_epochs = 100\n",
    "batch_size = 100\n",
    "build_func = arch.mlp_noreluout_lastlayernottrainable\n",
    "d = 784    # number of inputs"
   ]
  },
  {
   "cell_type": "code",
   "execution_count": 6,
   "metadata": {
    "scrolled": true
   },
   "outputs": [
    {
     "name": "stdout",
     "output_type": "stream",
     "text": [
      "Epoch 100/100 (380.127 s), batch 117.0/116 (3.918 s): loss 0.006\n",
      "Train acc: 0.99966\n",
      "Test acc: 0.99905\n"
     ]
    }
   ],
   "source": [
    "# Performance with a dense network\n",
    "input_dict = dict(p=d, h=512)\n",
    "tf.reset_default_graph()\n",
    "g = dl_utils.graph_builder_wrapper(input_dict, build_func=build_func)\n",
    "out = dl_utils.train_no_wtrue(Xtr, Ytr, g, num_epochs, batch_size)\n",
    "pickle.dump(out, file('temp_MNIST/mlp_noreluout_lastlayernottrainable.pickle', 'wb'))\n",
    "\n",
    "tr_acc = get_acc(Xtr, Ytr, out[1], input_dict, build_func)\n",
    "test_acc = get_acc(Xtt, Ytt, out[1], input_dict, build_func)\n",
    "\n",
    "print('Train acc: %.5f'%(tr_acc))\n",
    "print('Test acc: %.5f'%(test_acc))"
   ]
  },
  {
   "cell_type": "code",
   "execution_count": null,
   "metadata": {},
   "outputs": [
    {
     "name": "stdout",
     "output_type": "stream",
     "text": [
      "Epoch 358/500 (2021.963 s), batch 90.0/116 (4.574 s): loss 0.5523"
     ]
    }
   ],
   "source": [
    "num_epochs = 500\n",
    "\n",
    "# Performance with a PNN network\n",
    "for k in [512, 1024, 2048]:\n",
    "    \n",
    "    input_dict = dict(p=d, h=k)\n",
    "    \n",
    "    # initialize unit vectors corresponding to lines\n",
    "    w_init_u = np.random.normal(0, 1, [d, k/2])\n",
    "    w_init_u /= np.linalg.norm(w_init_u, axis=0)\n",
    "    w_init_u = np.repeat(w_init_u, 2, axis=1)\n",
    "    alpha = np.random.uniform(0, 1, k)\n",
    "    for ii in range(0, len(alpha), 2): alpha[ii] *= -1\n",
    "    w_init = alpha*w_init_u\n",
    "    w_init = {'weights1':w_init.astype(np.float32),\n",
    "              'weights2':np.ones([k, 1]).astype(np.float32)}\n",
    "    \n",
    "    # start training\n",
    "    tf.reset_default_graph()\n",
    "    g = graph_builder_wrapper_PNN(input_dict, build_func=build_func)\n",
    "    out = dl_utils.train_no_wtrue(Xtr, Ytr, g, num_epochs, batch_size, w_initial=w_init)\n",
    "    pickle.dump(out, file('temp_MNIST/mlp_noreluout_lastlayernottrainable_PNN_hidden%s.pickle'%(k), 'wb'))\n",
    "\n",
    "    dot_prods = check_to_see_if_col_are_same_line(out[1]['weights1'], w_init['weights1'], verbose=False)\n",
    "    \n",
    "    tr_acc = get_acc(Xtr, Ytr, out[1], input_dict, build_func)\n",
    "    test_acc = get_acc(Xtt, Ytt, out[1], input_dict, build_func)\n",
    "    \n",
    "    print('Num final lines close to original: %s'%(np.sum(np.isclose(dot_prods, np.ones(k), atol=1e-3))))\n",
    "    print('Train acc: %.5f'%(tr_acc))\n",
    "    print('Test acc: %.5f'%(test_acc))"
   ]
  },
  {
   "cell_type": "code",
   "execution_count": null,
   "metadata": {
    "collapsed": true
   },
   "outputs": [],
   "source": [
    "# Plot all losses\n",
    "loss1 = pickle.load(file('temp_MNIST/mlp_noreluout_lastlayernottrainable.pickle', 'rb'))[0]\n",
    "loss2 = pickle.load(file('temp_MNIST/mlp_noreluout_lastlayernottrainable_PNN_hidden512.pickle', 'rb'))[0]\n",
    "loss3 = pickle.load(file('temp_MNIST/mlp_noreluout_lastlayernottrainable_PNN_hidden1024.pickle', 'rb'))[0]\n",
    "loss4 = pickle.load(file('temp_MNIST/mlp_noreluout_lastlayernottrainable_PNN_hidden2048.pickle', 'rb'))[0]\n",
    "\n",
    "plt.figure(figsize=(10, 7))\n",
    "plt.plot(loss1, label='dense, 512 hidden')\n",
    "plt.plot(loss2, label='PNN, 512 hidden')\n",
    "plt.plot(loss3, label='PNN, 1024 hidden')\n",
    "plt.plot(loss4, label='PNN, 2048 hidden')\n",
    "plt.xlabel('epoch')\n",
    "plt.ylabel('loss (MSE)')\n",
    "plt.grid()\n",
    "plt.yscale('log')\n",
    "plt.show()"
   ]
  }
 ],
 "metadata": {
  "kernelspec": {
   "display_name": "Python 2",
   "language": "python",
   "name": "python2"
  },
  "language_info": {
   "codemirror_mode": {
    "name": "ipython",
    "version": 2
   },
   "file_extension": ".py",
   "mimetype": "text/x-python",
   "name": "python",
   "nbconvert_exporter": "python",
   "pygments_lexer": "ipython2",
   "version": "2.7.13"
  }
 },
 "nbformat": 4,
 "nbformat_minor": 1
}
