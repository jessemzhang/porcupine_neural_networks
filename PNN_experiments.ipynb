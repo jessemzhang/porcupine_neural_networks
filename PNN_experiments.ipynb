{
 "cells": [
  {
   "cell_type": "markdown",
   "metadata": {},
   "source": [
    "# Porcupine Neural Networks\n",
    "\n",
    "The code here implements a general PNN and performs the experiments corresponding to Figure 8 in the paper.\n",
    "\n",
    "We generated one set of true labels using a dense 3-layer network with $d = 15$ inputs and $k = 20$ hidden neurons. We generated 10000 ground truth samples using a set of randomly chosen weights. As a point of reference, we report the MSE losses in the cases where 0 and the label is predicted for all labels, respectively. \n",
    "\n",
    "We explored how PNNs can approximate these input-output relationships. We tested dense architectures with $k = 10, 20, 30, \\dots, 100$ hidden neurons. For each value of $k$, we performed 25 trials of the following:\n",
    "\n",
    "1. Initialize $k/2$ random $d$-dimensional unit-L2-norm weight vectors\n",
    "2. Assign each weight vector to two hidden neurons. For the first neuron, scale the vector by a random number sampled uniformly between 0 and 1. For the second neuron, scale the vector by a random number sampled uniformly between -1 and 0. \n",
    "3. Train the network via stochastic gradient descent using batches of size 100, 100 training epochs, no momentum, and a learning rate of 1e-3 which decays every epoch at a rate of 0.95 every 390 epochs. \n",
    "4. Check to make sure that final weights lie along the same lines as initial weights. Ignore results if this is not the case.\n",
    "5. Repeat 2-4 10 times. Return the minimum loss over these initializations"
   ]
  },
  {
   "cell_type": "code",
   "execution_count": 1,
   "metadata": {
    "collapsed": true
   },
   "outputs": [],
   "source": [
    "%load_ext autoreload\n",
    "%autoreload 2\n",
    "from __future__ import print_function\n",
    "import tensorflow as tf\n",
    "import numpy as np\n",
    "import os,time,pickle\n",
    "import matplotlib.pyplot as plt\n",
    "import arch,dl_utils,utils\n",
    "\n",
    "np.set_printoptions(precision=2,suppress=True)\n",
    "gpu_id = 1\n",
    "\n",
    "%matplotlib inline\n",
    "\n",
    "maindir = './temp_PNN/'"
   ]
  },
  {
   "cell_type": "code",
   "execution_count": 2,
   "metadata": {
    "collapsed": true
   },
   "outputs": [],
   "source": [
    "# Same as graph_builder_wrapper except for sparser structures\n",
    "# CURRENTLY ONLY WORKS WITH mlp_noreluout_lastlayernottrainable\n",
    "# (M is a mask for only the weights from input to hidden 1 layers)\n",
    "def graph_builder_wrapper_PNN(input_dict,build_func=arch.mlp,lr_initial=0.01,max_save=100):\n",
    "    graph = build_func(input_dict)\n",
    "    \n",
    "    # Loss\n",
    "    y = tf.placeholder(tf.float32, shape=[None,1])\n",
    "    total_loss = dl_utils.loss(y, graph['yhat'])\n",
    "    \n",
    "    # W gap\n",
    "    w = {k:tf.placeholder(tf.float32, shape=[None,None]) for k in graph if 'weights' in k}\n",
    "    total_w_gap = dl_utils.w_gap(w, {k:graph[k] for k in graph if 'weights' in k})\n",
    "    \n",
    "    # Find unit vectors\n",
    "    u = graph['weights1'] / tf.sqrt(tf.reduce_sum(tf.square(graph['weights1']), 0, keep_dims=True))\n",
    "    \n",
    "    # Optimizer\n",
    "    learning_rate = tf.Variable(lr_initial, name='learning_rate')\n",
    "    optimizer = tf.train.GradientDescentOptimizer(learning_rate)\n",
    "    grads = optimizer.compute_gradients(total_loss)\n",
    "    modified_grads = []\n",
    "    for gv in grads:\n",
    "        if gv[0] is None: modified_grads.append(gv)\n",
    "        else: \n",
    "            # Project gradients along unit vectors\n",
    "            alpha = tf.diag_part(tf.matmul(tf.transpose(u),gv[0]))\n",
    "            update = u*alpha\n",
    "            modified_grads.append((update, gv[1]))\n",
    "            \n",
    "    opt_step = optimizer.apply_gradients(modified_grads)\n",
    "    \n",
    "    graph['y'] = y\n",
    "    graph['w'] = w\n",
    "    graph['u'] = u\n",
    "    graph['grads'] = [i for i in grads if i[0] is not None]\n",
    "    graph['modified_grads'] = [i for i in modified_grads if i[0] is not None]\n",
    "    graph['opt_step'] = opt_step\n",
    "    graph['total_loss'] = total_loss\n",
    "    graph['total_w_gap'] = total_w_gap\n",
    "    graph['learning_rate'] = learning_rate\n",
    "    graph['saver'] = tf.train.Saver(max_to_keep=100)\n",
    "    return graph"
   ]
  },
  {
   "cell_type": "code",
   "execution_count": 3,
   "metadata": {
    "collapsed": true
   },
   "outputs": [],
   "source": [
    "# Generate true labels using dense networks\n",
    "\n",
    "np.random.seed(0)\n",
    "d = 15\n",
    "k1 = 20\n",
    "input_dict = dict(p=d,h=k1)\n",
    "w_true = {'weights1':np.random.normal(0,1./np.sqrt(d),[d,k1]),\n",
    "          'weights2':np.ones([k1,1])}\n",
    "\n",
    "N = 10000\n",
    "X = dl_utils.generate_X(N,0,input_dict,cov_is_eye=True,seed=0)\n",
    "Y = dl_utils.generate_output(X,w_true,input_dict,build_func=arch.mlp_noreluout_lastlayernottrainable)\n",
    "cnorm = np.mean(np.square(Y))"
   ]
  },
  {
   "cell_type": "code",
   "execution_count": 4,
   "metadata": {
    "collapsed": true
   },
   "outputs": [],
   "source": [
    "num_sims = 25 # number of simulations\n",
    "num_scale_redraws = 10\n",
    "N = 10000      # number of samples\n",
    "\n",
    "# Network parameters\n",
    "num_epochs = 100\n",
    "batch_size = 100\n",
    "build_func = arch.mlp_noreluout_lastlayernottrainable\n",
    "d = 15    # number of inputs\n",
    "\n",
    "# k2 is the number of hidden neurons (even number)\n",
    "list_k2 = np.arange(10,101,10)"
   ]
  },
  {
   "cell_type": "code",
   "execution_count": 5,
   "metadata": {
    "collapsed": true
   },
   "outputs": [],
   "source": [
    "# Used to check to make sure final weights are aligned with initial weights\n",
    "def check_to_see_if_col_are_same_line(X1,X2,verbose=True):\n",
    "    u1 = X1 / np.linalg.norm(X1,axis=0)\n",
    "    u2 = X2 / np.linalg.norm(X2,axis=0)\n",
    "    dot_products = np.abs(np.diag(np.dot(u1.T,u2)))\n",
    "    if verbose:\n",
    "        for i in dot_products: print(i)\n",
    "        if np.all(np.isclose(dot_products,1)):\n",
    "            print('columns along same line')\n",
    "        else:\n",
    "            print('columns not along same line')            \n",
    "    return dot_products"
   ]
  },
  {
   "cell_type": "code",
   "execution_count": 6,
   "metadata": {
    "scrolled": true
   },
   "outputs": [
    {
     "name": "stdout",
     "output_type": "stream",
     "text": [
      "k2 = 100, 25/25 sims done, 10/10 passes, 0 fails (236.47 s elapsed)"
     ]
    }
   ],
   "source": [
    "start = time.time()\n",
    "outputs = {k2:[] for k2 in list_k2}\n",
    "for i,k2 in enumerate(list_k2):\n",
    "    \n",
    "    for t in range(num_sims):\n",
    "        \n",
    "        run_dict = {}\n",
    "        \n",
    "        input_dict = dict(p=d,h=k2)\n",
    "        \n",
    "        np.random.seed((k2-1)*num_sims+t+1)\n",
    "\n",
    "        # initialize unit vectors corresponding to lines\n",
    "        w_init_u = np.random.normal(0,1,[d,k2/2])\n",
    "        w_init_u /= np.linalg.norm(w_init_u,axis=0)\n",
    "        w_init_u = np.repeat(w_init_u, 2,axis=1)\n",
    "        \n",
    "        # rescale a few times, each time drawing the scaling randomly\n",
    "        num_pass = 0\n",
    "        num_fail = 0\n",
    "        while num_pass < num_scale_redraws:\n",
    "            alpha = np.random.uniform(0,1,k2)\n",
    "            for ii in range(0,len(alpha),2): alpha[ii] *= -1\n",
    "            w_init = alpha*w_init_u\n",
    "            w_init = {'weights1':w_init.astype(np.float32),\n",
    "                      'weights2':np.ones([k2,1]).astype(np.float32)}\n",
    "            \n",
    "            # Build and train network (if it does not already exist)\n",
    "            savedir = '%snuminput%s_numepoch%s/initialization%s_scalesamp%s_numhidden%s/' \\\n",
    "                      %(maindir,d,num_epochs,t,num_pass,k2)\n",
    "                \n",
    "            if os.path.isdir(savedir):\n",
    "                w_hat,final_train_loss,_ = dl_utils.get_train_out(X,Y,w_init,\n",
    "                                                              input_dict,\n",
    "                                                              savedir,\n",
    "                                                              build_func)\n",
    "                out = {5:final_train_loss,2:w_hat}\n",
    "            \n",
    "            else:\n",
    "                tf.reset_default_graph()\n",
    "                with tf.device(\"/gpu:%s\"%(gpu_id)):\n",
    "                    graph = graph_builder_wrapper_PNN(input_dict,build_func=build_func)\n",
    "                    out = dl_utils.train(X,Y,graph,num_epochs,batch_size,w_init,w_init,\n",
    "                                         savedir=savedir,lr_initial=1e-3,verbose=False)\n",
    "                \n",
    "            # check to make sure final weights are aligned with initial weights\n",
    "            # otherwise redo the run\n",
    "            w1 = out[2]['weights1']\n",
    "            w2 = w_init['weights1']\n",
    "            dot_prods = check_to_see_if_col_are_same_line(w1,w2,verbose=False)\n",
    "            if np.all(np.isclose(dot_prods,np.ones(k2),atol=1e-3)):\n",
    "                num_pass += 1\n",
    "                run_dict[num_pass] = {'out':out,'w_init':w_init}\n",
    "            else:\n",
    "                num_fail += 1\n",
    "                os.system('rm -rf %s'%(savedir))\n",
    "\n",
    "            print('\\rk2 = %s, %s/%s sims done, %s/%s passes, %s fails (%.2f s elapsed)'\\\n",
    "                  %(k2,t+1,num_sims,num_pass,num_scale_redraws,\n",
    "                    num_fail,time.time()-start),end='')                \n",
    "                \n",
    "        run_dict['num_fail'] = num_fail\n",
    "        outputs[k2].append(run_dict)\n",
    "        \n",
    "pickle.dump(outputs,file('%snuminput%s_numepoch%s/outputs.pickle'%(maindir,d,num_epochs),'wb'))\n",
    "# outputs = pickle.load(file('%snuminput%s_numepoch%s/outputs.pickle'%(maindir,d,num_epochs)))"
   ]
  },
  {
   "cell_type": "code",
   "execution_count": 7,
   "metadata": {},
   "outputs": [
    {
     "data": {
      "image/png": "[encoded data removed]",
      "text/plain": [
       "<matplotlib.figure.Figure at 0x7fc2bc079c10>"
      ]
     },
     "metadata": {},
     "output_type": "display_data"
    }
   ],
   "source": [
    "# Take minimum of losses over 10 scaling factor redraws\n",
    "min_losses = np.zeros((len(list_k2),num_sims))\n",
    "for ik,k2 in enumerate(list_k2):\n",
    "    for i in range(num_sims):\n",
    "        min_losses[ik,i] = min([outputs[k2][i][j]['out'][5] \\\n",
    "                                for j in range(1,1+num_scale_redraws)])\n",
    "        \n",
    "# Plot with error bars\n",
    "plt.errorbar(list_k2, np.mean(min_losses,1), yerr=np.std(min_losses,1)/np.sqrt(num_sims))\n",
    "plt.xlabel('$k$')\n",
    "plt.ylabel('MSE')\n",
    "plt.xlim(5,105)\n",
    "plt.savefig('Figures/fig_pnn_msecurve.pdf', format='pdf', dpi=500, bbox_inches='tight')"
   ]
  },
  {
   "cell_type": "code",
   "execution_count": 8,
   "metadata": {},
   "outputs": [
    {
     "data": {
      "image/png": "[encoded data removed]",
      "text/plain": [
       "<matplotlib.figure.Figure at 0x7fc2b4dc9d90>"
      ]
     },
     "metadata": {},
     "output_type": "display_data"
    }
   ],
   "source": [
    "# Look at k2 = 10, 50, 100 cases\n",
    "list_k2_select = [10,50,100]\n",
    "d = {list_k2[i]:i for i in range(len(list_k2))}\n",
    "\n",
    "plt.figure(figsize=(8,2.5))\n",
    "colors = ['b','r','g']\n",
    "for j,k2 in enumerate(list_k2_select):\n",
    "    plt.subplot(1,3,j+1)\n",
    "    plt.hist(min_losses[d[k2],:], color = colors[j], normed=True)\n",
    "    plt.xlim(0,20)\n",
    "    plt.title('$k$ = %s'%(k2))\n",
    "    if j == 0: plt.ylabel('pdf')\n",
    "    plt.xlabel('final losses')\n",
    "plt.savefig('Figures/fig_pnn_losshist.pdf', format='pdf', dpi=500, bbox_inches='tight')"
   ]
  },
  {
   "cell_type": "code",
   "execution_count": 9,
   "metadata": {},
   "outputs": [
    {
     "data": {
      "image/png": "[encoded data removed]",
      "text/plain": [
       "<matplotlib.figure.Figure at 0x7fc2bc1d5b10>"
      ]
     },
     "metadata": {},
     "output_type": "display_data"
    }
   ],
   "source": [
    "# Fit gamma curves to the histograms\n",
    "from scipy.stats import gamma\n",
    "def fit_gamma(data,xmax):\n",
    "    x = np.linspace(0, xmax, 1000)\n",
    "    param = gamma.fit(data, floc=0)\n",
    "    return gamma.pdf(x, *param)\n",
    "\n",
    "plt.figure(figsize=(3,2.5))\n",
    "colors = ['b','r','g']\n",
    "for j,k2 in enumerate(list_k2_select):\n",
    "    curve = fit_gamma(min_losses[d[k2]],20)\n",
    "    plt.plot(np.linspace(0, 20, 1000),curve,c=colors[j],label='$k$ = %s'%(k2))\n",
    "plt.legend()\n",
    "plt.xlabel('final losses')\n",
    "plt.ylabel('pdf')\n",
    "plt.savefig('Figures/fig_pnn_losshist_curvefit.pdf', format='pdf', dpi=500, bbox_inches='tight')"
   ]
  },
  {
   "cell_type": "code",
   "execution_count": 10,
   "metadata": {},
   "outputs": [
    {
     "name": "stdout",
     "output_type": "stream",
     "text": [
      "loss obtained if we always predict mean of labels: 12.33\n",
      "loss obtained if we always predict 0: 73.77\n"
     ]
    }
   ],
   "source": [
    "print('loss obtained if we always predict mean of labels: %.2f'%(np.mean(np.square(Y-np.mean(Y)))))\n",
    "print('loss obtained if we always predict 0: %.2f'%(np.mean(np.square(Y))))"
   ]
  }
 ],
 "metadata": {
  "kernelspec": {
   "display_name": "Python 2",
   "language": "python",
   "name": "python2"
  },
  "language_info": {
   "codemirror_mode": {
    "name": "ipython",
    "version": 2
   },
   "file_extension": ".py",
   "mimetype": "text/x-python",
   "name": "python",
   "nbconvert_exporter": "python",
   "pygments_lexer": "ipython2",
   "version": "2.7.12"
  }
 },
 "nbformat": 4,
 "nbformat_minor": 1
}
